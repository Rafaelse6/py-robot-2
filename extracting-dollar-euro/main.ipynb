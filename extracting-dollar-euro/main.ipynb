{
 "cells": [
  {
   "cell_type": "code",
   "execution_count": 9,
   "metadata": {},
   "outputs": [],
   "source": [
    "from selenium import webdriver\n",
    "\n",
    "openBrowser = webdriver.Chrome()\n",
    "\n",
    "openBrowser.get('https://www.google.com')"
   ]
  },
  {
   "cell_type": "code",
   "execution_count": 12,
   "metadata": {},
   "outputs": [
    {
     "name": "stdout",
     "output_type": "stream",
     "text": [
      "4,94\n"
     ]
    }
   ],
   "source": [
    "from selenium import webdriver as selenium_options\n",
    "from selenium.webdriver.common.keys import Keys\n",
    "from selenium.webdriver.common.by import By\n",
    "import pyautogui as computerPause\n",
    "\n",
    "# Chrome authorization\n",
    "myWebBrowser = selenium_options.Chrome()\n",
    "myWebBrowser.get('https://www.google.com')\n",
    "\n",
    "computerPause.sleep(4)\n",
    "\n",
    "myWebBrowser.find_element(By.NAME, 'q').send_keys('Dolar hoje')\n",
    "\n",
    "computerPause.sleep(4)\n",
    "\n",
    "# It returns to the \"Q\" and \"press enter\"\n",
    "myWebBrowser.find_element(By.NAME, 'q').send_keys(Keys.RETURN)\n",
    "\n",
    "computerPause.sleep(4)\n",
    "\n",
    "dolarValueThroughGoogle = myWebBrowser.find_elements(\n",
    "    By.XPATH, '//*[@id=\"knowledge-currency__updatable-data-column\"]/div[1]/div[2]/span[1]')[0].text\n",
    "\n",
    "computerPause.sleep(4)\n",
    "\n",
    "print(dolarValueThroughGoogle)"
   ]
  },
  {
   "cell_type": "code",
   "execution_count": 1,
   "metadata": {},
   "outputs": [
    {
     "name": "stdout",
     "output_type": "stream",
     "text": [
      "4,94\n",
      "4,94\n"
     ]
    }
   ],
   "source": [
    "from selenium import webdriver as selenium_options\n",
    "from selenium.webdriver.common.keys import Keys\n",
    "from selenium.webdriver.common.by import By\n",
    "import pyautogui as computerPause\n",
    "import pyautogui as keyboardShortcut\n",
    "\n",
    "# Chrome authorization\n",
    "myWebBrowser = selenium_options.Chrome()\n",
    "myWebBrowser.get('https://www.google.com')\n",
    "\n",
    "computerPause.sleep(4)\n",
    "\n",
    "myWebBrowser.find_element(By.NAME, 'q').send_keys('Dolar hoje')\n",
    "\n",
    "computerPause.sleep(4)\n",
    "\n",
    "# It returns to the \"Q\" and \"press enter\"\n",
    "\n",
    "# Chrome authorization\n",
    "myWebBrowser = selenium_options.Chrome()\n",
    "myWebBrowser.get('https://www.google.com')\n",
    "\n",
    "computerPause.sleep(4)\n",
    "\n",
    "myWebBrowser.find_element(By.NAME, 'q').send_keys('Dolar hoje')\n",
    "\n",
    "computerPause.sleep(4)\n",
    "\n",
    "# It returns to the \"Q\" and \"press enter\"\n",
    "myWebBrowser.find_element(By.NAME, 'q').send_keys(Keys.RETURN)\n",
    "\n",
    "computerPause.sleep(4)\n",
    "\n",
    "dolarValueThroughGoogle = myWebBrowser.find_elements(\n",
    "    By.XPATH, '//*[@id=\"knowledge-currency__updatable-data-column\"]/div[1]/div[2]/span[1]')[0].text\n",
    "\n",
    "computerPause.sleep(4)\n",
    "\n",
    "print(dolarValueThroughGoogle)\n",
    "\n",
    "# --------#\n",
    "computerPause.sleep(2)\n",
    "\n",
    "myWebBrowser.find_element(By.NAME, 'q').send_keys(\"\")\n",
    "\n",
    "computerPause.sleep(4)\n",
    "\n",
    "keyboardShortcut.press('tab')\n",
    "\n",
    "computerPause.sleep(4)\n",
    "\n",
    "keyboardShortcut.press('enter')\n",
    "\n",
    "computerPause.sleep(4)\n",
    "\n",
    "myWebBrowser.find_element(By.NAME, 'q').send_keys('Euro hoje')\n",
    "\n",
    "myWebBrowser.find_element(By.NAME, 'q').send_keys(Keys.RETURN)\n",
    "\n",
    "computerPause.sleep(4)\n",
    "\n",
    "euroValueThroughGoogle = myWebBrowser.find_elements(\n",
    "    By.XPATH, '//*[@id=\"knowledge-currency__updatable-data-column\"]/div[1]/div[2]/span[1]')[0].text\n",
    "\n",
    "computerPause.sleep(4)\n",
    "\n",
    "print(euroValueThroughGoogle)"
   ]
  }
 ],
 "metadata": {
  "kernelspec": {
   "display_name": "Python 3",
   "language": "python",
   "name": "python3"
  },
  "language_info": {
   "codemirror_mode": {
    "name": "ipython",
    "version": 3
   },
   "file_extension": ".py",
   "mimetype": "text/x-python",
   "name": "python",
   "nbconvert_exporter": "python",
   "pygments_lexer": "ipython3",
   "version": "3.11.4"
  },
  "orig_nbformat": 4
 },
 "nbformat": 4,
 "nbformat_minor": 2
}
